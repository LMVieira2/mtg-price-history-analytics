{
 "cells": [
  {
   "cell_type": "markdown",
   "metadata": {
    "application/vnd.databricks.v1+cell": {
     "cellMetadata": {
      "byteLimit": 2048000,
      "rowLimit": 10000
     },
     "inputWidgets": {},
     "nuid": "b0d198c0-1d7b-4ee1-b895-90e453f5c805",
     "showTitle": false,
     "tableResultSettingsMap": {},
     "title": ""
    }
   },
   "source": [
    "# Scryfall API ingestion for T2 Cards"
   ]
  },
  {
   "cell_type": "markdown",
   "metadata": {
    "application/vnd.databricks.v1+cell": {
     "cellMetadata": {
      "byteLimit": 2048000,
      "rowLimit": 10000
     },
     "inputWidgets": {},
     "nuid": "1c4441d4-a663-420c-836f-53d8f0d2cc45",
     "showTitle": false,
     "tableResultSettingsMap": {},
     "title": ""
    }
   },
   "source": [
    "## Imports"
   ]
  },
  {
   "cell_type": "code",
   "execution_count": 0,
   "metadata": {
    "application/vnd.databricks.v1+cell": {
     "cellMetadata": {
      "byteLimit": 2048000,
      "rowLimit": 10000
     },
     "inputWidgets": {},
     "nuid": "480805a2-2d78-4b53-ac70-f9caefaaf31f",
     "showTitle": false,
     "tableResultSettingsMap": {},
     "title": ""
    }
   },
   "outputs": [],
   "source": [
    "import requests\n",
    "import pandas as pd\n",
    "from pyspark.sql import SparkSession\n",
    "from pyspark.sql.types import *"
   ]
  },
  {
   "cell_type": "markdown",
   "metadata": {
    "application/vnd.databricks.v1+cell": {
     "cellMetadata": {
      "byteLimit": 2048000,
      "rowLimit": 10000
     },
     "inputWidgets": {},
     "nuid": "83d5e850-c2da-43ab-87dd-fe3168d75f9c",
     "showTitle": false,
     "tableResultSettingsMap": {},
     "title": ""
    }
   },
   "source": [
    "## Ingestion"
   ]
  },
  {
   "cell_type": "code",
   "execution_count": 0,
   "metadata": {
    "application/vnd.databricks.v1+cell": {
     "cellMetadata": {
      "byteLimit": 2048000,
      "rowLimit": 10000
     },
     "inputWidgets": {},
     "nuid": "193304d9-988f-4386-b08b-84d6d8293407",
     "showTitle": false,
     "tableResultSettingsMap": {
      "0": {
       "dataGridStateBlob": "{\"version\":1,\"tableState\":{\"columnPinning\":{\"left\":[\"#row_number#\"],\"right\":[]},\"columnSizing\":{\"power\":104},\"columnVisibility\":{}},\"settings\":{\"columns\":{\"scryfall_uri\":{\"format\":{\"preset\":\"string-preset-url\"}}}},\"syncTimestamp\":1759350531308}",
       "filterBlob": null,
       "queryPlanFiltersBlob": null,
       "tableResultIndex": 0
      }
     },
     "title": ""
    }
   },
   "outputs": [],
   "source": [
    "url = \"https://api.scryfall.com/cards/search\"\n",
    "\n",
    "params = {\"q\": \"format:standard\", \"order\": \"color\", \"unique\": \"cards\", \"dir\": \"asc\"}\n",
    "\n",
    "cards = []\n",
    "while url:\n",
    "    response = requests.get(url, params=params)\n",
    "    response.raise_for_status()\n",
    "    data = response.json()\n",
    "    \n",
    "    cards.extend(data['data'])\n",
    "    \n",
    "    url = data.get('next_page', None)\n",
    "    params = None  \n",
    "\n",
    "def extract_mana_cost(card):\n",
    "    if card.get(\"mana_cost\"):\n",
    "        return card[\"mana_cost\"]\n",
    "    elif \"card_faces\" in card and card[\"card_faces\"]:\n",
    "        return card[\"card_faces\"][0].get(\"mana_cost\", \"\")\n",
    "    return \"\"\n",
    "\n",
    "def extract_colors(card):\n",
    "    if card.get(\"colors\"):\n",
    "        return card[\"colors\"]\n",
    "    elif \"card_faces\" in card and card[\"card_faces\"]:\n",
    "        colors = []\n",
    "        for face in card[\"card_faces\"]:\n",
    "            if \"colors\" in face and face[\"colors\"]:\n",
    "                colors.extend(face[\"colors\"])\n",
    "        return list(set(colors))\n",
    "    return []\n",
    "\n",
    "def extract_oracle_text(card):\n",
    "    if card.get(\"oracle_text\"):\n",
    "        return card[\"oracle_text\"]\n",
    "    elif \"card_faces\" in card and card[\"card_faces\"]:\n",
    "        texts = []\n",
    "        for face in card[\"card_faces\"]:\n",
    "            if \"oracle_text\" in face and face[\"oracle_text\"]:\n",
    "                texts.append(face[\"oracle_text\"])\n",
    "        return \" // \".join(texts) if texts else \"\"\n",
    "    return \"\"\n",
    "\n",
    "for c in cards:\n",
    "    c[\"mana_cost\"] = extract_mana_cost(c)\n",
    "    c[\"colors\"] = extract_colors(c)\n",
    "    c[\"oracle_text\"] = extract_oracle_text(c)\n",
    "\n",
    "df_cards = pd.json_normalize(cards, sep='_')\n",
    "\n",
    "cols = [\n",
    "    'name', 'mana_cost', 'type_line', 'oracle_text',\n",
    "    'power', 'toughness', 'loyalty', 'colors',\n",
    "    'color_identity', 'set', 'set_name', 'scryfall_uri'\n",
    "]\n",
    "df_cards = df_cards[cols]\n",
    "\n",
    "for col in ['colors', 'color_identity']:\n",
    "    df_cards[col] = df_cards[col].apply(\n",
    "        lambda x: ','.join(map(str, x)) if isinstance(x, list) else ''\n",
    "    )\n",
    "\n",
    "display(df_cards.head(20))\n",
    "print(f\"{len(df_cards)} Standard cards found\")\n"
   ]
  },
  {
   "cell_type": "markdown",
   "metadata": {
    "application/vnd.databricks.v1+cell": {
     "cellMetadata": {
      "byteLimit": 2048000,
      "rowLimit": 10000
     },
     "inputWidgets": {},
     "nuid": "4e0d7e4b-c183-497c-968f-3b9c97b37158",
     "showTitle": false,
     "tableResultSettingsMap": {},
     "title": ""
    }
   },
   "source": [
    "## Saving df in Unity Catalog"
   ]
  },
  {
   "cell_type": "code",
   "execution_count": 0,
   "metadata": {
    "application/vnd.databricks.v1+cell": {
     "cellMetadata": {
      "byteLimit": 2048000,
      "rowLimit": 10000
     },
     "inputWidgets": {},
     "nuid": "5e53ed58-15bb-404b-8f6e-779eae3e6d79",
     "showTitle": false,
     "tableResultSettingsMap": {},
     "title": ""
    }
   },
   "outputs": [],
   "source": [
    "spark_df = spark.createDataFrame(df_cards)\n",
    "\n",
    "spark_df.write.format(\"delta\").mode(\"overwrite\").saveAsTable(\"mtg.bronze.t2_cards_ingestion\")\n",
    "\n",
    "print(f\"Table successfully written\")\n"
   ]
  }
 ],
 "metadata": {
  "application/vnd.databricks.v1+notebook": {
   "computePreferences": {
    "hardware": {
     "accelerator": null,
     "gpuPoolId": null,
     "memory": null
    }
   },
   "dashboards": [],
   "environmentMetadata": {
    "base_environment": "",
    "environment_version": "3"
   },
   "inputWidgetPreferences": null,
   "language": "python",
   "notebookMetadata": {
    "mostRecentlyExecutedCommandWithImplicitDF": {
     "commandId": 8101106634754651,
     "dataframes": [
      "_sqldf"
     ]
    },
    "pythonIndentUnit": 4
   },
   "notebookName": "API_ingestion",
   "widgets": {}
  },
  "language_info": {
   "name": "python"
  }
 },
 "nbformat": 4,
 "nbformat_minor": 0
}
