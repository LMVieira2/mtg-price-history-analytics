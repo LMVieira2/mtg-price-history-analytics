{
 "cells": [
  {
   "cell_type": "markdown",
   "metadata": {
    "application/vnd.databricks.v1+cell": {
     "cellMetadata": {
      "byteLimit": 2048000,
      "rowLimit": 10000
     },
     "inputWidgets": {},
     "nuid": "25e170f7-6b9c-46e2-a2e4-b63dc28f8a33",
     "showTitle": false,
     "tableResultSettingsMap": {},
     "title": ""
    }
   },
   "source": [
    "# Silver Cleansing"
   ]
  },
  {
   "cell_type": "markdown",
   "metadata": {
    "application/vnd.databricks.v1+cell": {
     "cellMetadata": {
      "byteLimit": 2048000,
      "rowLimit": 10000
     },
     "inputWidgets": {},
     "nuid": "3173722e-e866-4c78-88ab-5d714b40ab39",
     "showTitle": false,
     "tableResultSettingsMap": {},
     "title": ""
    }
   },
   "source": [
    "## Imports"
   ]
  },
  {
   "cell_type": "code",
   "execution_count": 0,
   "metadata": {
    "application/vnd.databricks.v1+cell": {
     "cellMetadata": {
      "byteLimit": 2048000,
      "rowLimit": 10000
     },
     "inputWidgets": {},
     "nuid": "7a477980-50b8-4fd1-ad97-02058ccdec0d",
     "showTitle": false,
     "tableResultSettingsMap": {},
     "title": ""
    }
   },
   "outputs": [],
   "source": [
    "from pyspark.sql import functions as F"
   ]
  },
  {
   "cell_type": "code",
   "execution_count": 0,
   "metadata": {
    "application/vnd.databricks.v1+cell": {
     "cellMetadata": {
      "byteLimit": 2048000,
      "rowLimit": 10000
     },
     "inputWidgets": {},
     "nuid": "5c260019-f6be-433d-a20d-0ed4e7aeec2c",
     "showTitle": false,
     "tableResultSettingsMap": {
      "0": {
       "dataGridStateBlob": "{\"version\":1,\"tableState\":{\"columnPinning\":{\"left\":[\"#row_number#\"],\"right\":[]},\"columnSizing\":{},\"columnVisibility\":{}},\"settings\":{\"columns\":{\"scryfall_uri\":{\"format\":{\"preset\":\"string-preset-url\"}}}},\"syncTimestamp\":1759427174887}",
       "filterBlob": null,
       "queryPlanFiltersBlob": null,
       "tableResultIndex": 0
      }
     },
     "title": ""
    }
   },
   "outputs": [],
   "source": [
    "df_silver = spark.table(\"mtg.bronze.t2_cards_ingestion\")"
   ]
  },
  {
   "cell_type": "markdown",
   "metadata": {
    "application/vnd.databricks.v1+cell": {
     "cellMetadata": {
      "byteLimit": 2048000,
      "rowLimit": 10000
     },
     "inputWidgets": {},
     "nuid": "7aeecbab-fed0-4933-b5c2-23a24c72688b",
     "showTitle": false,
     "tableResultSettingsMap": {},
     "title": ""
    }
   },
   "source": [
    "## Null values"
   ]
  },
  {
   "cell_type": "code",
   "execution_count": 0,
   "metadata": {
    "application/vnd.databricks.v1+cell": {
     "cellMetadata": {
      "byteLimit": 2048000,
      "rowLimit": 10000
     },
     "inputWidgets": {},
     "nuid": "64f01e9b-0130-440e-9c5b-302577c45863",
     "showTitle": false,
     "tableResultSettingsMap": {
      "0": {
       "dataGridStateBlob": "{\"version\":1,\"tableState\":{\"columnPinning\":{\"left\":[\"#row_number#\"],\"right\":[]},\"columnSizing\":{},\"columnVisibility\":{}},\"settings\":{\"columns\":{\"scryfall_uri\":{\"format\":{\"preset\":\"string-preset-url\"}}}},\"syncTimestamp\":1759430555217}",
       "filterBlob": null,
       "queryPlanFiltersBlob": null,
       "tableResultIndex": 0
      }
     },
     "title": ""
    }
   },
   "outputs": [],
   "source": [
    "df_silver_not_null = (\n",
    "    df_silver\n",
    "    .withColumn(\"power\", F.coalesce(\"power\", F.lit(\"not defined\")))\n",
    "    .withColumn(\"toughness\", F.coalesce(\"toughness\", F.lit(\"not defined\")))\n",
    "    .withColumn(\"loyalty\", F.coalesce(\"loyalty\", F.lit(\"not defined\")))\n",
    ")\n"
   ]
  },
  {
   "cell_type": "markdown",
   "metadata": {
    "application/vnd.databricks.v1+cell": {
     "cellMetadata": {
      "byteLimit": 2048000,
      "rowLimit": 10000
     },
     "inputWidgets": {},
     "nuid": "0d6bcc30-d8a9-43fd-b5ba-114453930c30",
     "showTitle": false,
     "tableResultSettingsMap": {},
     "title": ""
    }
   },
   "source": [
    "## Colorless treatment"
   ]
  },
  {
   "cell_type": "code",
   "execution_count": 0,
   "metadata": {
    "application/vnd.databricks.v1+cell": {
     "cellMetadata": {
      "byteLimit": 2048000,
      "rowLimit": 10000
     },
     "inputWidgets": {},
     "nuid": "dedee17a-2de3-41e1-aaba-3de804722fbf",
     "showTitle": false,
     "tableResultSettingsMap": {
      "0": {
       "dataGridStateBlob": "{\"version\":1,\"tableState\":{\"columnPinning\":{\"left\":[\"#row_number#\"],\"right\":[]},\"columnSizing\":{\"name\":286},\"columnVisibility\":{}},\"settings\":{\"columns\":{\"scryfall_uri\":{\"format\":{\"preset\":\"string-preset-url\"}}}},\"syncTimestamp\":1759431264322}",
       "filterBlob": null,
       "queryPlanFiltersBlob": null,
       "tableResultIndex": 0
      }
     },
     "title": ""
    }
   },
   "outputs": [],
   "source": [
    "df_silver_colorless = (\n",
    "    df_silver_not_null\n",
    "    .withColumn(\n",
    "        \"colors\",\n",
    "        F.when((F.col(\"colors\").isNull()) | (F.col(\"colors\") == \"\"), F.lit(\"colorless\"))\n",
    "         .otherwise(F.col(\"colors\"))\n",
    "    )\n",
    "    .withColumn(\n",
    "        \"color_identity\",\n",
    "        F.when((F.col(\"color_identity\").isNull()) | (F.col(\"color_identity\") == \"\"), F.lit(\"colorless\"))\n",
    "         .otherwise(F.col(\"color_identity\"))\n",
    "    )\n",
    ")\n",
    "\n"
   ]
  },
  {
   "cell_type": "markdown",
   "metadata": {
    "application/vnd.databricks.v1+cell": {
     "cellMetadata": {
      "byteLimit": 2048000,
      "rowLimit": 10000
     },
     "inputWidgets": {},
     "nuid": "15204a1a-d51f-4c30-8083-109080417102",
     "showTitle": false,
     "tableResultSettingsMap": {},
     "title": ""
    }
   },
   "source": [
    "## Mana cost treatment"
   ]
  },
  {
   "cell_type": "code",
   "execution_count": 0,
   "metadata": {
    "application/vnd.databricks.v1+cell": {
     "cellMetadata": {
      "byteLimit": 2048000,
      "rowLimit": 10000
     },
     "inputWidgets": {},
     "nuid": "6d2070cf-43b4-49b8-b569-a21c6b0c81b8",
     "showTitle": false,
     "tableResultSettingsMap": {},
     "title": ""
    }
   },
   "outputs": [],
   "source": [
    "df_silver_clean = df_silver_colorless.withColumn(\n",
    "    \"mana_cost\",\n",
    "    F.regexp_replace(F.col(\"mana_cost\"), r\"[{}]\", \"\")\n",
    ")\n"
   ]
  },
  {
   "cell_type": "markdown",
   "metadata": {
    "application/vnd.databricks.v1+cell": {
     "cellMetadata": {
      "byteLimit": 2048000,
      "rowLimit": 10000
     },
     "inputWidgets": {},
     "nuid": "e8dd330e-faa3-4bc3-84b3-da30a0bc7576",
     "showTitle": false,
     "tableResultSettingsMap": {},
     "title": ""
    }
   },
   "source": [
    "## Types treatment for better visualization in BI"
   ]
  },
  {
   "cell_type": "code",
   "execution_count": 0,
   "metadata": {
    "application/vnd.databricks.v1+cell": {
     "cellMetadata": {
      "byteLimit": 2048000,
      "rowLimit": 10000
     },
     "inputWidgets": {},
     "nuid": "c4196024-761b-4b19-83f1-35d9d0ab8704",
     "showTitle": false,
     "tableResultSettingsMap": {},
     "title": ""
    }
   },
   "outputs": [],
   "source": [
    "from pyspark.sql import functions as F\n",
    "\n",
    "df_silver_clean = (\n",
    "    df_silver_clean\n",
    "    .withColumn(\n",
    "        \"type_cleaned\",\n",
    "        F.trim(\n",
    "            F.regexp_replace(\n",
    "                F.split(\n",
    "                    F.regexp_replace(F.col(\"type_line\"), r\"[–—-]\", \"—\"),\n",
    "                    \"—\"\n",
    "                ).getItem(0),\n",
    "                r\"\\s+\", \" \"  \n",
    "            )\n",
    "        )\n",
    "    )\n",
    "    .withColumn(\n",
    "        \"type_cleaned\",\n",
    "        F.regexp_replace(\n",
    "            F.col(\"type_cleaned\"),\n",
    "            r\"(?i)^(legendary|basic|snow|world|ongoing)\\s+\", \"\" \n",
    "        )\n",
    "    )\n",
    "    .withColumn(\n",
    "        \"type_cleaned\",\n",
    "        F.when(\n",
    "            (F.col(\"type_cleaned\").isNull()) | (F.trim(F.col(\"type_cleaned\")) == \"\"),\n",
    "            F.lit(\"Unknown\")\n",
    "        ).otherwise(F.col(\"type_cleaned\"))\n",
    "    )\n",
    ")\n",
    "\n",
    "missing = df_silver_clean.filter(\n",
    "    (F.col(\"type_cleaned\").isNull()) | (F.trim(F.col(\"type_cleaned\")) == \"\")\n",
    ").count()\n",
    "\n",
    "print(f\"Linhas sem type_cleaned depois do tratamento: {missing}\")\n",
    "df_silver_clean.display()\n"
   ]
  },
  {
   "cell_type": "markdown",
   "metadata": {
    "application/vnd.databricks.v1+cell": {
     "cellMetadata": {
      "byteLimit": 2048000,
      "rowLimit": 10000
     },
     "inputWidgets": {},
     "nuid": "c1c66bb7-9631-41fd-a5a4-68b74cafed27",
     "showTitle": false,
     "tableResultSettingsMap": {},
     "title": ""
    }
   },
   "source": [
    "## Saving df in Unity Catalog"
   ]
  },
  {
   "cell_type": "code",
   "execution_count": 0,
   "metadata": {
    "application/vnd.databricks.v1+cell": {
     "cellMetadata": {
      "byteLimit": 2048000,
      "rowLimit": 10000
     },
     "inputWidgets": {},
     "nuid": "39d03cbb-3b81-4b79-abbf-699013a6f287",
     "showTitle": false,
     "tableResultSettingsMap": {},
     "title": ""
    }
   },
   "outputs": [],
   "source": [
    "df_silver_clean.write.format(\"delta\").mode(\"overwrite\").saveAsTable(\"mtg.silver.t2_cards_clean\")\n",
    "\n",
    "print(f\"Table successfully written\")\n"
   ]
  }
 ],
 "metadata": {
  "application/vnd.databricks.v1+notebook": {
   "computePreferences": null,
   "dashboards": [],
   "environmentMetadata": {
    "base_environment": "",
    "environment_version": "3"
   },
   "inputWidgetPreferences": null,
   "language": "python",
   "notebookMetadata": {
    "pythonIndentUnit": 4
   },
   "notebookName": "silver_cleansing",
   "widgets": {}
  },
  "language_info": {
   "name": "python"
  }
 },
 "nbformat": 4,
 "nbformat_minor": 0
}
